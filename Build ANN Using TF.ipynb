{
 "cells": [
  {
   "cell_type": "markdown",
   "id": "1acaaf2d",
   "metadata": {},
   "source": [
    "# Regression with TensorFlow"
   ]
  },
  {
   "cell_type": "code",
   "execution_count": 437,
   "id": "0b5f0b41",
   "metadata": {},
   "outputs": [],
   "source": [
    "import pandas as pd\n",
    "import matplotlib.pyplot as plt\n",
    "import tensorflow as tf"
   ]
  },
  {
   "cell_type": "code",
   "execution_count": 438,
   "id": "70eade11",
   "metadata": {},
   "outputs": [],
   "source": [
    "data=pd.read_csv('dataset.csv')"
   ]
  },
  {
   "cell_type": "code",
   "execution_count": 439,
   "id": "bc14823f",
   "metadata": {},
   "outputs": [
    {
     "data": {
      "text/html": [
       "<div>\n",
       "<style scoped>\n",
       "    .dataframe tbody tr th:only-of-type {\n",
       "        vertical-align: middle;\n",
       "    }\n",
       "\n",
       "    .dataframe tbody tr th {\n",
       "        vertical-align: top;\n",
       "    }\n",
       "\n",
       "    .dataframe thead th {\n",
       "        text-align: right;\n",
       "    }\n",
       "</style>\n",
       "<table border=\"1\" class=\"dataframe\">\n",
       "  <thead>\n",
       "    <tr style=\"text-align: right;\">\n",
       "      <th></th>\n",
       "      <th>x</th>\n",
       "      <th>y</th>\n",
       "    </tr>\n",
       "  </thead>\n",
       "  <tbody>\n",
       "    <tr>\n",
       "      <th>0</th>\n",
       "      <td>77</td>\n",
       "      <td>79.775152</td>\n",
       "    </tr>\n",
       "    <tr>\n",
       "      <th>1</th>\n",
       "      <td>21</td>\n",
       "      <td>23.177279</td>\n",
       "    </tr>\n",
       "    <tr>\n",
       "      <th>2</th>\n",
       "      <td>22</td>\n",
       "      <td>25.609262</td>\n",
       "    </tr>\n",
       "    <tr>\n",
       "      <th>3</th>\n",
       "      <td>20</td>\n",
       "      <td>17.857388</td>\n",
       "    </tr>\n",
       "    <tr>\n",
       "      <th>4</th>\n",
       "      <td>36</td>\n",
       "      <td>41.849864</td>\n",
       "    </tr>\n",
       "  </tbody>\n",
       "</table>\n",
       "</div>"
      ],
      "text/plain": [
       "    x          y\n",
       "0  77  79.775152\n",
       "1  21  23.177279\n",
       "2  22  25.609262\n",
       "3  20  17.857388\n",
       "4  36  41.849864"
      ]
     },
     "execution_count": 439,
     "metadata": {},
     "output_type": "execute_result"
    }
   ],
   "source": [
    "data.head()"
   ]
  },
  {
   "cell_type": "code",
   "execution_count": 440,
   "id": "4aa26634",
   "metadata": {},
   "outputs": [
    {
     "data": {
      "text/plain": [
       "(300, 2)"
      ]
     },
     "execution_count": 440,
     "metadata": {},
     "output_type": "execute_result"
    }
   ],
   "source": [
    "data.shape"
   ]
  },
  {
   "cell_type": "code",
   "execution_count": 441,
   "id": "6804ebff",
   "metadata": {},
   "outputs": [
    {
     "name": "stdout",
     "output_type": "stream",
     "text": [
      "<class 'pandas.core.frame.DataFrame'>\n",
      "RangeIndex: 300 entries, 0 to 299\n",
      "Data columns (total 2 columns):\n",
      " #   Column  Non-Null Count  Dtype  \n",
      "---  ------  --------------  -----  \n",
      " 0   x       300 non-null    int64  \n",
      " 1   y       300 non-null    float64\n",
      "dtypes: float64(1), int64(1)\n",
      "memory usage: 4.8 KB\n"
     ]
    }
   ],
   "source": [
    "data.info()"
   ]
  },
  {
   "cell_type": "code",
   "execution_count": 442,
   "id": "268518d9",
   "metadata": {},
   "outputs": [
    {
     "data": {
      "text/html": [
       "<div>\n",
       "<style scoped>\n",
       "    .dataframe tbody tr th:only-of-type {\n",
       "        vertical-align: middle;\n",
       "    }\n",
       "\n",
       "    .dataframe tbody tr th {\n",
       "        vertical-align: top;\n",
       "    }\n",
       "\n",
       "    .dataframe thead th {\n",
       "        text-align: right;\n",
       "    }\n",
       "</style>\n",
       "<table border=\"1\" class=\"dataframe\">\n",
       "  <thead>\n",
       "    <tr style=\"text-align: right;\">\n",
       "      <th></th>\n",
       "      <th>x</th>\n",
       "      <th>y</th>\n",
       "    </tr>\n",
       "  </thead>\n",
       "  <tbody>\n",
       "    <tr>\n",
       "      <th>count</th>\n",
       "      <td>300.000000</td>\n",
       "      <td>300.000000</td>\n",
       "    </tr>\n",
       "    <tr>\n",
       "      <th>mean</th>\n",
       "      <td>50.936667</td>\n",
       "      <td>51.205051</td>\n",
       "    </tr>\n",
       "    <tr>\n",
       "      <th>std</th>\n",
       "      <td>28.504286</td>\n",
       "      <td>29.071481</td>\n",
       "    </tr>\n",
       "    <tr>\n",
       "      <th>min</th>\n",
       "      <td>0.000000</td>\n",
       "      <td>-3.467884</td>\n",
       "    </tr>\n",
       "    <tr>\n",
       "      <th>25%</th>\n",
       "      <td>27.000000</td>\n",
       "      <td>25.676502</td>\n",
       "    </tr>\n",
       "    <tr>\n",
       "      <th>50%</th>\n",
       "      <td>53.000000</td>\n",
       "      <td>52.170557</td>\n",
       "    </tr>\n",
       "    <tr>\n",
       "      <th>75%</th>\n",
       "      <td>73.000000</td>\n",
       "      <td>74.303007</td>\n",
       "    </tr>\n",
       "    <tr>\n",
       "      <th>max</th>\n",
       "      <td>100.000000</td>\n",
       "      <td>105.591837</td>\n",
       "    </tr>\n",
       "  </tbody>\n",
       "</table>\n",
       "</div>"
      ],
      "text/plain": [
       "                x           y\n",
       "count  300.000000  300.000000\n",
       "mean    50.936667   51.205051\n",
       "std     28.504286   29.071481\n",
       "min      0.000000   -3.467884\n",
       "25%     27.000000   25.676502\n",
       "50%     53.000000   52.170557\n",
       "75%     73.000000   74.303007\n",
       "max    100.000000  105.591837"
      ]
     },
     "execution_count": 442,
     "metadata": {},
     "output_type": "execute_result"
    }
   ],
   "source": [
    "data.describe()"
   ]
  },
  {
   "cell_type": "code",
   "execution_count": 443,
   "id": "48a884b9",
   "metadata": {},
   "outputs": [],
   "source": [
    "x=data[[\"x\"]]\n",
    "y=data[\"y\"]"
   ]
  },
  {
   "cell_type": "code",
   "execution_count": 444,
   "id": "344bd987",
   "metadata": {},
   "outputs": [
    {
     "data": {
      "text/html": [
       "<div>\n",
       "<style scoped>\n",
       "    .dataframe tbody tr th:only-of-type {\n",
       "        vertical-align: middle;\n",
       "    }\n",
       "\n",
       "    .dataframe tbody tr th {\n",
       "        vertical-align: top;\n",
       "    }\n",
       "\n",
       "    .dataframe thead th {\n",
       "        text-align: right;\n",
       "    }\n",
       "</style>\n",
       "<table border=\"1\" class=\"dataframe\">\n",
       "  <thead>\n",
       "    <tr style=\"text-align: right;\">\n",
       "      <th></th>\n",
       "      <th>x</th>\n",
       "    </tr>\n",
       "  </thead>\n",
       "  <tbody>\n",
       "    <tr>\n",
       "      <th>0</th>\n",
       "      <td>77</td>\n",
       "    </tr>\n",
       "    <tr>\n",
       "      <th>1</th>\n",
       "      <td>21</td>\n",
       "    </tr>\n",
       "    <tr>\n",
       "      <th>2</th>\n",
       "      <td>22</td>\n",
       "    </tr>\n",
       "    <tr>\n",
       "      <th>3</th>\n",
       "      <td>20</td>\n",
       "    </tr>\n",
       "    <tr>\n",
       "      <th>4</th>\n",
       "      <td>36</td>\n",
       "    </tr>\n",
       "  </tbody>\n",
       "</table>\n",
       "</div>"
      ],
      "text/plain": [
       "    x\n",
       "0  77\n",
       "1  21\n",
       "2  22\n",
       "3  20\n",
       "4  36"
      ]
     },
     "execution_count": 444,
     "metadata": {},
     "output_type": "execute_result"
    }
   ],
   "source": [
    "x.head()"
   ]
  },
  {
   "cell_type": "code",
   "execution_count": 445,
   "id": "2c2289a6",
   "metadata": {},
   "outputs": [
    {
     "data": {
      "text/plain": [
       "0    79.775152\n",
       "1    23.177279\n",
       "2    25.609262\n",
       "3    17.857388\n",
       "4    41.849864\n",
       "Name: y, dtype: float64"
      ]
     },
     "execution_count": 445,
     "metadata": {},
     "output_type": "execute_result"
    }
   ],
   "source": [
    "y.head()"
   ]
  },
  {
   "cell_type": "code",
   "execution_count": 446,
   "id": "56fe8650",
   "metadata": {},
   "outputs": [
    {
     "data": {
      "image/png": "[encoded data removed]",
      "text/plain": [
       "<Figure size 640x480 with 1 Axes>"
      ]
     },
     "metadata": {},
     "output_type": "display_data"
    }
   ],
   "source": [
    "plt.scatter(x,y)\n",
    "plt.show()"
   ]
  },
  {
   "cell_type": "code",
   "execution_count": 447,
   "id": "fa6d85cf",
   "metadata": {},
   "outputs": [],
   "source": [
    "from sklearn.model_selection import train_test_split"
   ]
  },
  {
   "cell_type": "code",
   "execution_count": 448,
   "id": "d6889a99",
   "metadata": {},
   "outputs": [],
   "source": [
    "x_train,x_test,y_train,y_test=train_test_split(x,y,test_size=0.3)"
   ]
  },
  {
   "cell_type": "code",
   "execution_count": 449,
   "id": "5332b2a8",
   "metadata": {},
   "outputs": [
    {
     "data": {
      "text/plain": [
       "((210, 1), (90, 1))"
      ]
     },
     "execution_count": 449,
     "metadata": {},
     "output_type": "execute_result"
    }
   ],
   "source": [
    "x_train.shape,x_test.shape"
   ]
  },
  {
   "cell_type": "code",
   "execution_count": 450,
   "id": "abfe08f5",
   "metadata": {},
   "outputs": [
    {
     "data": {
      "image/png": "[encoded data removed]",
      "text/plain": [
       "<Figure size 640x480 with 1 Axes>"
      ]
     },
     "metadata": {},
     "output_type": "display_data"
    }
   ],
   "source": [
    "plt.scatter(x_train,y_train,label=\"Training Data\")\n",
    "plt.scatter(x_test,y_test,label=\"Testing Data\")\n",
    "plt.legend()\n",
    "plt.show()"
   ]
  },
  {
   "cell_type": "code",
   "execution_count": 538,
   "id": "c3adaa39",
   "metadata": {},
   "outputs": [],
   "source": [
    "#Model Building"
   ]
  },
  {
   "cell_type": "code",
   "execution_count": 451,
   "id": "5cd152cb",
   "metadata": {},
   "outputs": [],
   "source": [
    "model=tf.keras.Sequential([\n",
    "    tf.keras.layers.Dense(50,input_shape=(1,)),\n",
    "    tf.keras.layers.Dense(20),\n",
    "    tf.keras.layers.Dense(1)\n",
    "]) "
   ]
  },
  {
   "cell_type": "code",
   "execution_count": 452,
   "id": "0723a4aa",
   "metadata": {},
   "outputs": [],
   "source": [
    "#Compile Model"
   ]
  },
  {
   "cell_type": "code",
   "execution_count": 453,
   "id": "e95c408b",
   "metadata": {},
   "outputs": [],
   "source": [
    "model.compile(loss=tf.keras.losses.mae,\n",
    "             optimizer=tf.keras.optimizers.Adam(learning_rate=0.05),\n",
    "             metrics=['mae'])"
   ]
  },
  {
   "cell_type": "code",
   "execution_count": 454,
   "id": "20343db0",
   "metadata": {},
   "outputs": [],
   "source": [
    "# Model train"
   ]
  },
  {
   "cell_type": "code",
   "execution_count": 455,
   "id": "37895fd4",
   "metadata": {},
   "outputs": [
    {
     "name": "stdout",
     "output_type": "stream",
     "text": [
      "Epoch 1/20\n",
      "7/7 [==============================] - 1s 3ms/step - loss: 40.5317 - mae: 40.5317\n",
      "Epoch 2/20\n",
      "7/7 [==============================] - 0s 2ms/step - loss: 15.2503 - mae: 15.2503\n",
      "Epoch 3/20\n",
      "7/7 [==============================] - 0s 3ms/step - loss: 4.0189 - mae: 4.0189\n",
      "Epoch 4/20\n",
      "7/7 [==============================] - 0s 3ms/step - loss: 4.0083 - mae: 4.0083\n",
      "Epoch 5/20\n",
      "7/7 [==============================] - 0s 2ms/step - loss: 3.5669 - mae: 3.5669\n",
      "Epoch 6/20\n",
      "7/7 [==============================] - 0s 3ms/step - loss: 3.9279 - mae: 3.9279\n",
      "Epoch 7/20\n",
      "7/7 [==============================] - 0s 2ms/step - loss: 3.8269 - mae: 3.8269\n",
      "Epoch 8/20\n",
      "7/7 [==============================] - 0s 3ms/step - loss: 3.0122 - mae: 3.0122\n",
      "Epoch 9/20\n",
      "7/7 [==============================] - 0s 2ms/step - loss: 2.7277 - mae: 2.7277\n",
      "Epoch 10/20\n",
      "7/7 [==============================] - 0s 3ms/step - loss: 2.6527 - mae: 2.6527\n",
      "Epoch 11/20\n",
      "7/7 [==============================] - 0s 2ms/step - loss: 2.9414 - mae: 2.9414\n",
      "Epoch 12/20\n",
      "7/7 [==============================] - 0s 3ms/step - loss: 3.1383 - mae: 3.1383\n",
      "Epoch 13/20\n",
      "7/7 [==============================] - 0s 3ms/step - loss: 3.3940 - mae: 3.3940\n",
      "Epoch 14/20\n",
      "7/7 [==============================] - 0s 3ms/step - loss: 3.0602 - mae: 3.0602\n",
      "Epoch 15/20\n",
      "7/7 [==============================] - 0s 2ms/step - loss: 3.0454 - mae: 3.0454\n",
      "Epoch 16/20\n",
      "7/7 [==============================] - 0s 3ms/step - loss: 5.3543 - mae: 5.3543\n",
      "Epoch 17/20\n",
      "7/7 [==============================] - 0s 3ms/step - loss: 5.7214 - mae: 5.7214\n",
      "Epoch 18/20\n",
      "7/7 [==============================] - 0s 4ms/step - loss: 4.7324 - mae: 4.7324\n",
      "Epoch 19/20\n",
      "7/7 [==============================] - 0s 3ms/step - loss: 3.7594 - mae: 3.7594\n",
      "Epoch 20/20\n",
      "7/7 [==============================] - 0s 2ms/step - loss: 6.0600 - mae: 6.0600\n"
     ]
    },
    {
     "data": {
      "text/plain": [
       "<keras.src.callbacks.History at 0x17e6d6e08e0>"
      ]
     },
     "execution_count": 455,
     "metadata": {},
     "output_type": "execute_result"
    }
   ],
   "source": [
    "model.fit(x_train,y_train,epochs=20)"
   ]
  },
  {
   "cell_type": "code",
   "execution_count": 456,
   "id": "61430e17",
   "metadata": {},
   "outputs": [
    {
     "name": "stdout",
     "output_type": "stream",
     "text": [
      "Model: \"sequential_18\"\n",
      "_________________________________________________________________\n",
      " Layer (type)                Output Shape              Param #   \n",
      "=================================================================\n",
      " dense_50 (Dense)            (None, 50)                100       \n",
      "                                                                 \n",
      " dense_51 (Dense)            (None, 20)                1020      \n",
      "                                                                 \n",
      " dense_52 (Dense)            (None, 1)                 21        \n",
      "                                                                 \n",
      "=================================================================\n",
      "Total params: 1141 (4.46 KB)\n",
      "Trainable params: 1141 (4.46 KB)\n",
      "Non-trainable params: 0 (0.00 Byte)\n",
      "_________________________________________________________________\n"
     ]
    }
   ],
   "source": [
    "model.summary()"
   ]
  },
  {
   "cell_type": "code",
   "execution_count": 539,
   "id": "73c4f32d",
   "metadata": {},
   "outputs": [],
   "source": [
    "# Prediction"
   ]
  },
  {
   "cell_type": "code",
   "execution_count": 457,
   "id": "03f78d62",
   "metadata": {},
   "outputs": [
    {
     "name": "stdout",
     "output_type": "stream",
     "text": [
      "3/3 [==============================] - 0s 2ms/step\n"
     ]
    }
   ],
   "source": [
    "pred=model.predict(x_test)"
   ]
  },
  {
   "cell_type": "code",
   "execution_count": 458,
   "id": "2846547c",
   "metadata": {},
   "outputs": [
    {
     "data": {
      "text/plain": [
       "array([[ 57.134167],\n",
       "       [ 60.420864],\n",
       "       [ 17.693775],\n",
       "       [ 79.045494],\n",
       "       [104.243515],\n",
       "       [ 54.94303 ],\n",
       "       [ 80.14105 ],\n",
       "       [ 29.745005],\n",
       "       [ 47.274063],\n",
       "       [ 13.31151 ]], dtype=float32)"
      ]
     },
     "execution_count": 458,
     "metadata": {},
     "output_type": "execute_result"
    }
   ],
   "source": [
    "pred[:10]"
   ]
  },
  {
   "cell_type": "code",
   "execution_count": 459,
   "id": "bd51ee3d",
   "metadata": {},
   "outputs": [
    {
     "data": {
      "text/plain": [
       "52     54.081706\n",
       "216    51.107743\n",
       "286    16.749239\n",
       "273    77.996948\n",
       "217    95.797473\n",
       "67     50.963436\n",
       "191    72.862825\n",
       "23     21.713803\n",
       "89     48.672526\n",
       "218     9.241139\n",
       "Name: y, dtype: float64"
      ]
     },
     "execution_count": 459,
     "metadata": {},
     "output_type": "execute_result"
    }
   ],
   "source": [
    "y_test.head(10)"
   ]
  },
  {
   "cell_type": "code",
   "execution_count": 460,
   "id": "1529c7ea",
   "metadata": {},
   "outputs": [
    {
     "data": {
      "image/png": "[encoded data removed]",
      "text/plain": [
       "<Figure size 640x480 with 1 Axes>"
      ]
     },
     "metadata": {},
     "output_type": "display_data"
    }
   ],
   "source": [
    "plt.scatter(x_train,y_train,label=\"Training Data\")\n",
    "plt.scatter(x_test,y_test,label=\"Testing Data\")\n",
    "plt.scatter(x_test,pred,label=\"Predictions\")\n",
    "plt.legend()\n",
    "plt.show()"
   ]
  },
  {
   "cell_type": "code",
   "execution_count": 540,
   "id": "2657ba32",
   "metadata": {},
   "outputs": [],
   "source": [
    "#Model Evaluation"
   ]
  },
  {
   "cell_type": "code",
   "execution_count": 461,
   "id": "8c856f59",
   "metadata": {},
   "outputs": [
    {
     "name": "stdout",
     "output_type": "stream",
     "text": [
      "3/3 [==============================] - 0s 3ms/step - loss: 5.0853 - mae: 5.0853\n"
     ]
    },
    {
     "data": {
      "text/plain": [
       "[5.085336685180664, 5.085336685180664]"
      ]
     },
     "execution_count": 461,
     "metadata": {},
     "output_type": "execute_result"
    }
   ],
   "source": [
    "model.evaluate(x_test,y_test)"
   ]
  },
  {
   "cell_type": "code",
   "execution_count": 462,
   "id": "0d4d553e",
   "metadata": {},
   "outputs": [],
   "source": [
    "# Using Mean Absolute Error"
   ]
  },
  {
   "cell_type": "code",
   "execution_count": 463,
   "id": "62ea4687",
   "metadata": {},
   "outputs": [
    {
     "data": {
      "text/plain": [
       "<tf.Tensor: shape=(), dtype=float32, numpy=5.085337>"
      ]
     },
     "execution_count": 463,
     "metadata": {},
     "output_type": "execute_result"
    }
   ],
   "source": [
    "mae=tf.metrics.mean_absolute_error(y_test,tf.squeeze(pred))\n",
    "mae"
   ]
  },
  {
   "cell_type": "code",
   "execution_count": 464,
   "id": "5c2a74f9",
   "metadata": {},
   "outputs": [],
   "source": [
    "# Using Mean Squared Error"
   ]
  },
  {
   "cell_type": "code",
   "execution_count": 465,
   "id": "6b94c651",
   "metadata": {},
   "outputs": [
    {
     "data": {
      "text/plain": [
       "<tf.Tensor: shape=(), dtype=float32, numpy=33.51708>"
      ]
     },
     "execution_count": 465,
     "metadata": {},
     "output_type": "execute_result"
    }
   ],
   "source": [
    "mse=tf.metrics.mean_squared_error(y_test,tf.squeeze(pred))\n",
    "mse"
   ]
  },
  {
   "cell_type": "markdown",
   "id": "384e9350",
   "metadata": {},
   "source": [
    "# Classification with TensorFlow"
   ]
  },
  {
   "cell_type": "code",
   "execution_count": 466,
   "id": "f0e6af0a",
   "metadata": {},
   "outputs": [],
   "source": [
    "data=pd.read_csv(\"dataset_classification.csv\")"
   ]
  },
  {
   "cell_type": "code",
   "execution_count": 467,
   "id": "b75deecb",
   "metadata": {},
   "outputs": [
    {
     "data": {
      "text/html": [
       "<div>\n",
       "<style scoped>\n",
       "    .dataframe tbody tr th:only-of-type {\n",
       "        vertical-align: middle;\n",
       "    }\n",
       "\n",
       "    .dataframe tbody tr th {\n",
       "        vertical-align: top;\n",
       "    }\n",
       "\n",
       "    .dataframe thead th {\n",
       "        text-align: right;\n",
       "    }\n",
       "</style>\n",
       "<table border=\"1\" class=\"dataframe\">\n",
       "  <thead>\n",
       "    <tr style=\"text-align: right;\">\n",
       "      <th></th>\n",
       "      <th>Height</th>\n",
       "      <th>Weight</th>\n",
       "      <th>Sex</th>\n",
       "    </tr>\n",
       "  </thead>\n",
       "  <tbody>\n",
       "    <tr>\n",
       "      <th>0</th>\n",
       "      <td>146.323241</td>\n",
       "      <td>59.861065</td>\n",
       "      <td>Female</td>\n",
       "    </tr>\n",
       "    <tr>\n",
       "      <th>1</th>\n",
       "      <td>175.695412</td>\n",
       "      <td>77.863687</td>\n",
       "      <td>Male</td>\n",
       "    </tr>\n",
       "    <tr>\n",
       "      <th>2</th>\n",
       "      <td>183.216164</td>\n",
       "      <td>72.131992</td>\n",
       "      <td>Male</td>\n",
       "    </tr>\n",
       "    <tr>\n",
       "      <th>3</th>\n",
       "      <td>184.245269</td>\n",
       "      <td>77.546000</td>\n",
       "      <td>Male</td>\n",
       "    </tr>\n",
       "    <tr>\n",
       "      <th>4</th>\n",
       "      <td>132.302261</td>\n",
       "      <td>55.188496</td>\n",
       "      <td>Female</td>\n",
       "    </tr>\n",
       "  </tbody>\n",
       "</table>\n",
       "</div>"
      ],
      "text/plain": [
       "       Height     Weight     Sex\n",
       "0  146.323241  59.861065  Female\n",
       "1  175.695412  77.863687    Male\n",
       "2  183.216164  72.131992    Male\n",
       "3  184.245269  77.546000    Male\n",
       "4  132.302261  55.188496  Female"
      ]
     },
     "execution_count": 467,
     "metadata": {},
     "output_type": "execute_result"
    }
   ],
   "source": [
    "data.head()"
   ]
  },
  {
   "cell_type": "code",
   "execution_count": 468,
   "id": "087c666d",
   "metadata": {},
   "outputs": [
    {
     "data": {
      "text/plain": [
       "(205, 3)"
      ]
     },
     "execution_count": 468,
     "metadata": {},
     "output_type": "execute_result"
    }
   ],
   "source": [
    "data.shape"
   ]
  },
  {
   "cell_type": "code",
   "execution_count": 469,
   "id": "3008a502",
   "metadata": {},
   "outputs": [
    {
     "name": "stdout",
     "output_type": "stream",
     "text": [
      "<class 'pandas.core.frame.DataFrame'>\n",
      "RangeIndex: 205 entries, 0 to 204\n",
      "Data columns (total 3 columns):\n",
      " #   Column  Non-Null Count  Dtype  \n",
      "---  ------  --------------  -----  \n",
      " 0   Height  205 non-null    float64\n",
      " 1   Weight  205 non-null    float64\n",
      " 2   Sex     205 non-null    object \n",
      "dtypes: float64(2), object(1)\n",
      "memory usage: 4.9+ KB\n"
     ]
    }
   ],
   "source": [
    "data.info()"
   ]
  },
  {
   "cell_type": "code",
   "execution_count": 470,
   "id": "cf4ef749",
   "metadata": {},
   "outputs": [
    {
     "data": {
      "text/html": [
       "<div>\n",
       "<style scoped>\n",
       "    .dataframe tbody tr th:only-of-type {\n",
       "        vertical-align: middle;\n",
       "    }\n",
       "\n",
       "    .dataframe tbody tr th {\n",
       "        vertical-align: top;\n",
       "    }\n",
       "\n",
       "    .dataframe thead th {\n",
       "        text-align: right;\n",
       "    }\n",
       "</style>\n",
       "<table border=\"1\" class=\"dataframe\">\n",
       "  <thead>\n",
       "    <tr style=\"text-align: right;\">\n",
       "      <th></th>\n",
       "      <th>Height</th>\n",
       "      <th>Weight</th>\n",
       "    </tr>\n",
       "  </thead>\n",
       "  <tbody>\n",
       "    <tr>\n",
       "      <th>count</th>\n",
       "      <td>205.000000</td>\n",
       "      <td>205.000000</td>\n",
       "    </tr>\n",
       "    <tr>\n",
       "      <th>mean</th>\n",
       "      <td>160.874125</td>\n",
       "      <td>69.927028</td>\n",
       "    </tr>\n",
       "    <tr>\n",
       "      <th>std</th>\n",
       "      <td>15.171040</td>\n",
       "      <td>15.462396</td>\n",
       "    </tr>\n",
       "    <tr>\n",
       "      <th>min</th>\n",
       "      <td>123.007006</td>\n",
       "      <td>34.726666</td>\n",
       "    </tr>\n",
       "    <tr>\n",
       "      <th>25%</th>\n",
       "      <td>148.942667</td>\n",
       "      <td>58.583137</td>\n",
       "    </tr>\n",
       "    <tr>\n",
       "      <th>50%</th>\n",
       "      <td>161.749388</td>\n",
       "      <td>69.544469</td>\n",
       "    </tr>\n",
       "    <tr>\n",
       "      <th>75%</th>\n",
       "      <td>172.608090</td>\n",
       "      <td>77.964667</td>\n",
       "    </tr>\n",
       "    <tr>\n",
       "      <th>max</th>\n",
       "      <td>199.282251</td>\n",
       "      <td>129.410122</td>\n",
       "    </tr>\n",
       "  </tbody>\n",
       "</table>\n",
       "</div>"
      ],
      "text/plain": [
       "           Height      Weight\n",
       "count  205.000000  205.000000\n",
       "mean   160.874125   69.927028\n",
       "std     15.171040   15.462396\n",
       "min    123.007006   34.726666\n",
       "25%    148.942667   58.583137\n",
       "50%    161.749388   69.544469\n",
       "75%    172.608090   77.964667\n",
       "max    199.282251  129.410122"
      ]
     },
     "execution_count": 470,
     "metadata": {},
     "output_type": "execute_result"
    }
   ],
   "source": [
    "data.describe()"
   ]
  },
  {
   "cell_type": "code",
   "execution_count": 471,
   "id": "31a2421d",
   "metadata": {},
   "outputs": [],
   "source": [
    "data.loc[data['Sex']==\"Male\",'Sex']=1\n",
    "data.loc[data['Sex']==\"Female\",'Sex']=0"
   ]
  },
  {
   "cell_type": "code",
   "execution_count": 472,
   "id": "a482e2a9",
   "metadata": {},
   "outputs": [
    {
     "data": {
      "text/html": [
       "<div>\n",
       "<style scoped>\n",
       "    .dataframe tbody tr th:only-of-type {\n",
       "        vertical-align: middle;\n",
       "    }\n",
       "\n",
       "    .dataframe tbody tr th {\n",
       "        vertical-align: top;\n",
       "    }\n",
       "\n",
       "    .dataframe thead th {\n",
       "        text-align: right;\n",
       "    }\n",
       "</style>\n",
       "<table border=\"1\" class=\"dataframe\">\n",
       "  <thead>\n",
       "    <tr style=\"text-align: right;\">\n",
       "      <th></th>\n",
       "      <th>Height</th>\n",
       "      <th>Weight</th>\n",
       "      <th>Sex</th>\n",
       "    </tr>\n",
       "  </thead>\n",
       "  <tbody>\n",
       "    <tr>\n",
       "      <th>0</th>\n",
       "      <td>146.323241</td>\n",
       "      <td>59.861065</td>\n",
       "      <td>0</td>\n",
       "    </tr>\n",
       "    <tr>\n",
       "      <th>1</th>\n",
       "      <td>175.695412</td>\n",
       "      <td>77.863687</td>\n",
       "      <td>1</td>\n",
       "    </tr>\n",
       "    <tr>\n",
       "      <th>2</th>\n",
       "      <td>183.216164</td>\n",
       "      <td>72.131992</td>\n",
       "      <td>1</td>\n",
       "    </tr>\n",
       "    <tr>\n",
       "      <th>3</th>\n",
       "      <td>184.245269</td>\n",
       "      <td>77.546000</td>\n",
       "      <td>1</td>\n",
       "    </tr>\n",
       "    <tr>\n",
       "      <th>4</th>\n",
       "      <td>132.302261</td>\n",
       "      <td>55.188496</td>\n",
       "      <td>0</td>\n",
       "    </tr>\n",
       "  </tbody>\n",
       "</table>\n",
       "</div>"
      ],
      "text/plain": [
       "       Height     Weight Sex\n",
       "0  146.323241  59.861065   0\n",
       "1  175.695412  77.863687   1\n",
       "2  183.216164  72.131992   1\n",
       "3  184.245269  77.546000   1\n",
       "4  132.302261  55.188496   0"
      ]
     },
     "execution_count": 472,
     "metadata": {},
     "output_type": "execute_result"
    }
   ],
   "source": [
    "data.head()"
   ]
  },
  {
   "cell_type": "code",
   "execution_count": 473,
   "id": "ab378d39",
   "metadata": {},
   "outputs": [],
   "source": [
    "x=data.drop(\"Sex\",axis=1)"
   ]
  },
  {
   "cell_type": "code",
   "execution_count": 474,
   "id": "37ff92f6",
   "metadata": {},
   "outputs": [],
   "source": [
    "y=data['Sex']"
   ]
  },
  {
   "cell_type": "code",
   "execution_count": 475,
   "id": "8614a936",
   "metadata": {},
   "outputs": [],
   "source": [
    "y=y.astype('int64')"
   ]
  },
  {
   "cell_type": "code",
   "execution_count": 484,
   "id": "4fdcc337",
   "metadata": {},
   "outputs": [],
   "source": [
    "from sklearn.preprocessing import MinMaxScaler\n",
    "scaler=MinMaxScaler()\n",
    "x=scaler.fit_transform(x)\n",
    "x=pd.DataFrame(x,columns=['Height','Weight'])"
   ]
  },
  {
   "cell_type": "code",
   "execution_count": 485,
   "id": "23edc084",
   "metadata": {},
   "outputs": [
    {
     "data": {
      "text/html": [
       "<div>\n",
       "<style scoped>\n",
       "    .dataframe tbody tr th:only-of-type {\n",
       "        vertical-align: middle;\n",
       "    }\n",
       "\n",
       "    .dataframe tbody tr th {\n",
       "        vertical-align: top;\n",
       "    }\n",
       "\n",
       "    .dataframe thead th {\n",
       "        text-align: right;\n",
       "    }\n",
       "</style>\n",
       "<table border=\"1\" class=\"dataframe\">\n",
       "  <thead>\n",
       "    <tr style=\"text-align: right;\">\n",
       "      <th></th>\n",
       "      <th>Height</th>\n",
       "      <th>Weight</th>\n",
       "    </tr>\n",
       "  </thead>\n",
       "  <tbody>\n",
       "    <tr>\n",
       "      <th>0</th>\n",
       "      <td>0.305685</td>\n",
       "      <td>0.265457</td>\n",
       "    </tr>\n",
       "    <tr>\n",
       "      <th>1</th>\n",
       "      <td>0.690767</td>\n",
       "      <td>0.455592</td>\n",
       "    </tr>\n",
       "    <tr>\n",
       "      <th>2</th>\n",
       "      <td>0.789367</td>\n",
       "      <td>0.395057</td>\n",
       "    </tr>\n",
       "    <tr>\n",
       "      <th>3</th>\n",
       "      <td>0.802859</td>\n",
       "      <td>0.452237</td>\n",
       "    </tr>\n",
       "    <tr>\n",
       "      <th>4</th>\n",
       "      <td>0.121865</td>\n",
       "      <td>0.216108</td>\n",
       "    </tr>\n",
       "  </tbody>\n",
       "</table>\n",
       "</div>"
      ],
      "text/plain": [
       "     Height    Weight\n",
       "0  0.305685  0.265457\n",
       "1  0.690767  0.455592\n",
       "2  0.789367  0.395057\n",
       "3  0.802859  0.452237\n",
       "4  0.121865  0.216108"
      ]
     },
     "execution_count": 485,
     "metadata": {},
     "output_type": "execute_result"
    }
   ],
   "source": [
    "x.head()"
   ]
  },
  {
   "cell_type": "code",
   "execution_count": 486,
   "id": "120814c3",
   "metadata": {},
   "outputs": [
    {
     "data": {
      "image/png": "[encoded data removed]",
      "text/plain": [
       "<Figure size 640x480 with 2 Axes>"
      ]
     },
     "metadata": {},
     "output_type": "display_data"
    }
   ],
   "source": [
    "plt.scatter(x['Height'],x['Weight'],c=y)\n",
    "plt.colorbar()\n",
    "plt.show()"
   ]
  },
  {
   "cell_type": "code",
   "execution_count": 487,
   "id": "5ed5495e",
   "metadata": {},
   "outputs": [],
   "source": [
    "from sklearn.model_selection import train_test_split\n",
    "x_train,x_test,y_train,y_test=train_test_split(x,y)"
   ]
  },
  {
   "cell_type": "code",
   "execution_count": 488,
   "id": "02698949",
   "metadata": {},
   "outputs": [
    {
     "data": {
      "text/plain": [
       "(153, 2)"
      ]
     },
     "execution_count": 488,
     "metadata": {},
     "output_type": "execute_result"
    }
   ],
   "source": [
    "x_train.shape"
   ]
  },
  {
   "cell_type": "code",
   "execution_count": 489,
   "id": "e6b92ff9",
   "metadata": {},
   "outputs": [
    {
     "data": {
      "text/plain": [
       "(52, 2)"
      ]
     },
     "execution_count": 489,
     "metadata": {},
     "output_type": "execute_result"
    }
   ],
   "source": [
    "x_test.shape"
   ]
  },
  {
   "cell_type": "code",
   "execution_count": 490,
   "id": "b297b798",
   "metadata": {},
   "outputs": [],
   "source": [
    "# Model Building"
   ]
  },
  {
   "cell_type": "code",
   "execution_count": 582,
   "id": "75b1c76f",
   "metadata": {},
   "outputs": [],
   "source": [
    "model=tf.keras.Sequential([\n",
    "    tf.keras.layers.Dense(50,activation='relu',input_shape=(2,)),\n",
    "    tf.keras.layers.Dense(20,activation='relu'),\n",
    "    tf.keras.layers.Dense(2,activation=\"softmax\")\n",
    "]) "
   ]
  },
  {
   "cell_type": "code",
   "execution_count": 583,
   "id": "cfe76e0f",
   "metadata": {},
   "outputs": [],
   "source": [
    "#Compile Model"
   ]
  },
  {
   "cell_type": "code",
   "execution_count": 584,
   "id": "f212ae17",
   "metadata": {},
   "outputs": [],
   "source": [
    "model.compile(loss=tf.keras.losses.sparse_categorical_crossentropy,\n",
    "             optimizer=tf.keras.optimizers.Adam(learning_rate=0.05),\n",
    "             metrics=['accuracy'])"
   ]
  },
  {
   "cell_type": "code",
   "execution_count": 585,
   "id": "83b396e2",
   "metadata": {},
   "outputs": [],
   "source": [
    "#Train Model"
   ]
  },
  {
   "cell_type": "code",
   "execution_count": 586,
   "id": "6f376e01",
   "metadata": {},
   "outputs": [
    {
     "name": "stdout",
     "output_type": "stream",
     "text": [
      "Epoch 1/20\n",
      "5/5 [==============================] - 1s 2ms/step - loss: 0.6301 - accuracy: 0.6536\n",
      "Epoch 2/20\n",
      "5/5 [==============================] - 0s 3ms/step - loss: 0.4914 - accuracy: 0.7778\n",
      "Epoch 3/20\n",
      "5/5 [==============================] - 0s 3ms/step - loss: 0.4100 - accuracy: 0.8039\n",
      "Epoch 4/20\n",
      "5/5 [==============================] - 0s 3ms/step - loss: 0.3632 - accuracy: 0.8235\n",
      "Epoch 5/20\n",
      "5/5 [==============================] - 0s 2ms/step - loss: 0.3210 - accuracy: 0.8627\n",
      "Epoch 6/20\n",
      "5/5 [==============================] - 0s 3ms/step - loss: 0.2970 - accuracy: 0.8627\n",
      "Epoch 7/20\n",
      "5/5 [==============================] - 0s 3ms/step - loss: 0.2925 - accuracy: 0.8824\n",
      "Epoch 8/20\n",
      "5/5 [==============================] - 0s 3ms/step - loss: 0.2931 - accuracy: 0.8627\n",
      "Epoch 9/20\n",
      "5/5 [==============================] - 0s 4ms/step - loss: 0.2977 - accuracy: 0.8758\n",
      "Epoch 10/20\n",
      "5/5 [==============================] - 0s 4ms/step - loss: 0.2693 - accuracy: 0.8693\n",
      "Epoch 11/20\n",
      "5/5 [==============================] - 0s 3ms/step - loss: 0.2794 - accuracy: 0.8693\n",
      "Epoch 12/20\n",
      "5/5 [==============================] - 0s 3ms/step - loss: 0.3395 - accuracy: 0.8562\n",
      "Epoch 13/20\n",
      "5/5 [==============================] - 0s 3ms/step - loss: 0.3445 - accuracy: 0.8889\n",
      "Epoch 14/20\n",
      "5/5 [==============================] - 0s 4ms/step - loss: 0.2950 - accuracy: 0.8693\n",
      "Epoch 15/20\n",
      "5/5 [==============================] - 0s 7ms/step - loss: 0.2965 - accuracy: 0.8758\n",
      "Epoch 16/20\n",
      "5/5 [==============================] - 0s 4ms/step - loss: 0.2717 - accuracy: 0.8562\n",
      "Epoch 17/20\n",
      "5/5 [==============================] - 0s 4ms/step - loss: 0.2752 - accuracy: 0.8627\n",
      "Epoch 18/20\n",
      "5/5 [==============================] - 0s 4ms/step - loss: 0.3041 - accuracy: 0.8693\n",
      "Epoch 19/20\n",
      "5/5 [==============================] - 0s 3ms/step - loss: 0.3319 - accuracy: 0.8366\n",
      "Epoch 20/20\n",
      "5/5 [==============================] - 0s 4ms/step - loss: 0.3060 - accuracy: 0.8627\n"
     ]
    }
   ],
   "source": [
    "history=model.fit(x_train,y_train,epochs=20)"
   ]
  },
  {
   "cell_type": "code",
   "execution_count": 587,
   "id": "f6c02dcd",
   "metadata": {},
   "outputs": [
    {
     "name": "stdout",
     "output_type": "stream",
     "text": [
      "Model: \"sequential_22\"\n",
      "_________________________________________________________________\n",
      " Layer (type)                Output Shape              Param #   \n",
      "=================================================================\n",
      " dense_62 (Dense)            (None, 50)                150       \n",
      "                                                                 \n",
      " dense_63 (Dense)            (None, 20)                1020      \n",
      "                                                                 \n",
      " dense_64 (Dense)            (None, 2)                 42        \n",
      "                                                                 \n",
      "=================================================================\n",
      "Total params: 1212 (4.73 KB)\n",
      "Trainable params: 1212 (4.73 KB)\n",
      "Non-trainable params: 0 (0.00 Byte)\n",
      "_________________________________________________________________\n"
     ]
    }
   ],
   "source": [
    "model.summary()"
   ]
  },
  {
   "cell_type": "code",
   "execution_count": 588,
   "id": "e526d019",
   "metadata": {},
   "outputs": [],
   "source": [
    "#prediction"
   ]
  },
  {
   "cell_type": "code",
   "execution_count": 589,
   "id": "83fa656a",
   "metadata": {},
   "outputs": [
    {
     "name": "stdout",
     "output_type": "stream",
     "text": [
      "2/2 [==============================] - 0s 3ms/step\n"
     ]
    }
   ],
   "source": [
    "pred=model.predict(x_test)"
   ]
  },
  {
   "cell_type": "code",
   "execution_count": 590,
   "id": "3a3fc173",
   "metadata": {},
   "outputs": [
    {
     "data": {
      "text/plain": [
       "array([[0.95812505, 0.04187499],\n",
       "       [0.58897376, 0.41102624],\n",
       "       [0.41577154, 0.58422846],\n",
       "       [0.43303677, 0.5669632 ],\n",
       "       [0.9216966 , 0.07830342],\n",
       "       [0.14042062, 0.85957944],\n",
       "       [0.9316951 , 0.06830493],\n",
       "       [0.86304533, 0.1369547 ]], dtype=float32)"
      ]
     },
     "execution_count": 590,
     "metadata": {},
     "output_type": "execute_result"
    }
   ],
   "source": [
    "pred[:8]"
   ]
  },
  {
   "cell_type": "code",
   "execution_count": 591,
   "id": "b14f1f6f",
   "metadata": {},
   "outputs": [
    {
     "data": {
      "text/plain": [
       "array([0, 0, 1, 1, 0, 1, 0, 0], dtype=int64)"
      ]
     },
     "execution_count": 591,
     "metadata": {},
     "output_type": "execute_result"
    }
   ],
   "source": [
    "import numpy as np\n",
    "pred=np.argmax(pred,axis=1)\n",
    "pred[:8]"
   ]
  },
  {
   "cell_type": "code",
   "execution_count": 592,
   "id": "f8412e40",
   "metadata": {},
   "outputs": [
    {
     "data": {
      "text/plain": [
       "59     0\n",
       "108    0\n",
       "14     0\n",
       "157    0\n",
       "20     0\n",
       "37     1\n",
       "150    0\n",
       "98     0\n",
       "Name: Sex, dtype: int64"
      ]
     },
     "execution_count": 592,
     "metadata": {},
     "output_type": "execute_result"
    }
   ],
   "source": [
    "y_test.head(8)"
   ]
  },
  {
   "cell_type": "code",
   "execution_count": 593,
   "id": "fa6fa856",
   "metadata": {},
   "outputs": [
    {
     "name": "stdout",
     "output_type": "stream",
     "text": [
      "2/2 [==============================] - 0s 5ms/step - loss: 0.2542 - accuracy: 0.8462\n"
     ]
    },
    {
     "data": {
      "text/plain": [
       "[0.25418007373809814, 0.8461538553237915]"
      ]
     },
     "execution_count": 593,
     "metadata": {},
     "output_type": "execute_result"
    }
   ],
   "source": [
    "model.evaluate(x_test,y_test)"
   ]
  },
  {
   "cell_type": "code",
   "execution_count": 594,
   "id": "bbbe92f5",
   "metadata": {},
   "outputs": [
    {
     "data": {
      "text/plain": [
       "<tf.Tensor: shape=(), dtype=float32, numpy=0.86206895>"
      ]
     },
     "execution_count": 594,
     "metadata": {},
     "output_type": "execute_result"
    }
   ],
   "source": [
    "precision=tf.keras.metrics.Precision()\n",
    "precision.update_state(y_test,pred)\n",
    "precision.result()"
   ]
  },
  {
   "cell_type": "code",
   "execution_count": 595,
   "id": "e870a8ac",
   "metadata": {},
   "outputs": [
    {
     "data": {
      "text/plain": [
       "<tf.Tensor: shape=(), dtype=float32, numpy=0.86206895>"
      ]
     },
     "execution_count": 595,
     "metadata": {},
     "output_type": "execute_result"
    }
   ],
   "source": [
    "recall=tf.keras.metrics.Recall()\n",
    "recall.update_state(y_test,pred)\n",
    "recall.result()"
   ]
  }
 ],
 "metadata": {
  "kernelspec": {
   "display_name": "Python 3 (ipykernel)",
   "language": "python",
   "name": "python3"
  },
  "language_info": {
   "codemirror_mode": {
    "name": "ipython",
    "version": 3
   },
   "file_extension": ".py",
   "mimetype": "text/x-python",
   "name": "python",
   "nbconvert_exporter": "python",
   "pygments_lexer": "ipython3",
   "version": "3.10.9"
  }
 },
 "nbformat": 4,
 "nbformat_minor": 5
}
